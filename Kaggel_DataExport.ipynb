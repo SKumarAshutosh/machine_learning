{
  "nbformat": 4,
  "nbformat_minor": 0,
  "metadata": {
    "colab": {
      "provenance": [],
      "authorship_tag": "ABX9TyOZ0Jv4vreZu/57Zhk59TpG",
      "include_colab_link": true
    },
    "kernelspec": {
      "name": "python3",
      "display_name": "Python 3"
    },
    "language_info": {
      "name": "python"
    }
  },
  "cells": [
    {
      "cell_type": "markdown",
      "metadata": {
        "id": "view-in-github",
        "colab_type": "text"
      },
      "source": [
        "<a href=\"https://colab.research.google.com/github/SKumarAshutosh/machine_learning/blob/main/Kaggel_DataExport.ipynb\" target=\"_parent\"><img src=\"https://colab.research.google.com/assets/colab-badge.svg\" alt=\"Open In Colab\"/></a>"
      ]
    },
    {
      "cell_type": "markdown",
      "source": [
        "**Importing a Kaggle dataset into Google Colab requires a few steps. Here's a step-by-step guide:**\n",
        "\n",
        "**Step 1: Set up Kaggle**\n",
        "\n",
        "1. Go to your Kaggle account settings page: `https://www.kaggle.com/account`\n",
        "2. Scroll down to the API section and click on \"Create New API Token\". This will download a file named `kaggle.json`.\n",
        "3. Keep this file; you'll need to upload it to Google Colab.\n",
        "\n",
        "**Step 2: Import Dataset into Google Colab**\n",
        "\n",
        "1. Open a new Google Colab notebook or use an existing one.\n",
        "\n",
        "2. Run the following code to upload the `kaggle.json` file to the Colab environment:\n",
        "\n",
        "```python\n",
        "from google.colab import files\n",
        "files.upload()\n",
        "```\n",
        "\n",
        "3. Install the Kaggle API client:\n",
        "\n",
        "```python\n",
        "!pip install -q kaggle\n",
        "```\n",
        "\n",
        "4. Set up the Kaggle API token:\n",
        "\n",
        "```python\n",
        "!mkdir -p ~/.kaggle\n",
        "!cp kaggle.json ~/.kaggle/\n",
        "!chmod 600 ~/.kaggle/kaggle.json\n",
        "```\n",
        "\n",
        "**Step 3: Download the Kaggle Dataset**\n",
        "\n",
        "1. Go to the Kaggle dataset page you want to download.\n",
        "2. Click on the \"Three Dots\" on the right side and then \"Copy API Command\".\n",
        "\n",
        "The copied command will look something like:\n",
        "\n",
        "```bash\n",
        "kaggle datasets download -d user/dataset-name\n",
        "```\n",
        "\n",
        "3. Paste this command in a Colab cell, but prepend it with an exclamation mark (`!`) to run it as a shell command:\n",
        "\n",
        "```python\n",
        "!kaggle datasets download -d user/dataset-name\n",
        "```\n",
        "\n",
        "**Step 4: Unzip the Dataset (if necessary)**\n",
        "\n",
        "Kaggle datasets are often zipped. To unzip:\n",
        "\n",
        "```python\n",
        "!unzip dataset-name.zip\n",
        "```\n",
        "\n",
        "Replace `dataset-name.zip` with the name of the downloaded zipped file.\n",
        "\n",
        "That's it! You've now imported the Kaggle dataset into your Google Colab environment and can start using it in your analyses."
      ],
      "metadata": {
        "id": "xY0UIDDgaSCb"
      }
    },
    {
      "cell_type": "code",
      "execution_count": null,
      "metadata": {
        "id": "ZTr7O3PsaLJQ"
      },
      "outputs": [],
      "source": []
    }
  ]
}